{
 "cells": [
  {
   "cell_type": "markdown",
   "metadata": {},
   "source": [
    "## NAMA : ANDIKA INDRA KIRANA\n",
    "## NIM : 2602204405\n",
    "## MATA KULIAH : Data Engineering Programming"
   ]
  },
  {
   "cell_type": "markdown",
   "metadata": {},
   "source": [
    "### Konsep Data Mining dan ETL (Extract, Transform, Load). Berikan contoh bagaimana proses ini diterapkan dalam sebuah proyek data analytics untuk perencanaan kota."
   ]
  },
  {
   "cell_type": "markdown",
   "metadata": {},
   "source": [
    "Data mining adalah proses penggalian informasi untuk mengidentifikasi pola, tren, dan data yang berguna dalam pengambilan keputusan perusahaan. Data mining menggunakan teknik statistika, pembelajaran mesin, dan algoritma khusus untuk menemukan pola tersembunyi yang mungkin tidak terlihat dengan analisis sederhana. Hasil dari data mining dapat digunakan untuk pengambilan keputusan berbasis data.\n",
    "\n",
    " ETL adalah proses integrasi data yang menggabungkan data dari berbagai sumber lalu dipindahkan ke satu penyimpanan.\n",
    " ETL terdiri dari tiga proses:\n",
    "\n",
    "Extract – mengumpulkan dan mengidentifikasi data dari berbagai sumber. Data bisa berasal dari sumber terstruktur maupun tidak terstruktur, seperti dokumen dan database.\n",
    "Transform – dikarenakan data yang dikumpulkan adalah data mentah, data perlu dibersihkan dan diubah ke format standar agar bisa disimpan ke database yang sudah disiapkan. Data transform juga mencakup menghapus data duplikat, tidak lengkap, atau salah.\n",
    "Load – data yang formatnya sudah disesuaikan kemudian dipindahkan ke dalam database tujuan.\n",
    "\n",
    "Perencanaan Transportasi dan Permukiman Kota Tangerang\n",
    "Tujuan Proyek\n",
    "Proyek ini bertujuan untuk:\n",
    "\n",
    "Menganalisis pola kepadatan lalu lintas di berbagai wilayah Kota Tangerang.\n",
    "Mengidentifikasi kebutuhan infrastruktur transportasi berdasarkan pola lalu lintas dan pertumbuhan populasi.\n",
    "Mengoptimalkan rencana pembangunan permukiman sesuai dengan zonasi kota dan kebutuhan ruang hijau.\n",
    "Langkah-Langkah ETL dan Data Mining:\n",
    "1. Extract\n",
    "Pengumpulan data dari berbagai sumber:\n",
    "\n",
    "Data Lalu Lintas: Mengambil data dari sensor lalu lintas di titik-titik tertentu di Tangerang, seperti pada jalan utama, perempatan, atau flyover. Sumber data ini bisa dari Dinas Perhubungan atau teknologi sensor.\n",
    "Data Sosial dan Demografi: Mengumpulkan data kepadatan penduduk dari BPS Tangerang, data persebaran lokasi pemukiman, dan data pertumbuhan ekonomi dari sumber statistik pemerintah.\n",
    "Data Peta dan Infrastruktur: Mengambil data dari peta digital atau GIS untuk memahami lokasi, jaringan jalan, stasiun, halte, dan bangunan penting lainnya.\n",
    "Data Cuaca: Memasukkan data cuaca dari BMKG untuk melihat pengaruh kondisi cuaca terhadap kepadatan lalu lintas.\n",
    "\n",
    "2. Transform\n",
    "Data Cleaning: Menghilangkan data duplikat, menangani nilai kosong, dan mengoreksi data yang tidak sesuai.\n",
    "Data Integrasi: Menggabungkan data dari berbagai sumber ke dalam satu data set terpadu, seperti menggabungkan data lalu lintas dengan data lokasi dan data cuaca.\n",
    "Normalisasi dan Penyiapan Format Data: Mengkonversi data ke format yang sesuai untuk analisis, misalnya menyiapkan data kepadatan lalu lintas per jam di setiap titik sensor atau membuat indeks kepadatan permukiman di setiap kelurahan.\n",
    "Data Aggregation: Mengelompokkan data kepadatan lalu lintas berdasarkan waktu, misalnya pada jam sibuk dan hari kerja, serta lokasi tertentu seperti jalan utama dan pusat kota.\n",
    "\n",
    "3. Load\n",
    "Memuat data yang sudah diolah ke dalam data warehouse kota atau sistem Business Intelligence (BI), agar data ini dapat diakses dan divisualisasikan dengan mudah oleh pihak-pihak terkait, seperti Dinas Perhubungan dan Dinas Tata Kota.\n",
    "\n",
    "4. Data Mining\n",
    "Proses analisis data mining diterapkan untuk menemukan pola, hubungan, dan prediksi:\n",
    "\n",
    "Clustering: Mengelompokkan wilayah-wilayah di Tangerang berdasarkan kepadatan lalu lintas dan kepadatan penduduk. Dengan ini, kita bisa menemukan area rawan macet atau area yang membutuhkan fasilitas transportasi tambahan.\n",
    "Classification: Menggolongkan wilayah pemukiman menurut kategori kepadatan populasi, jenis fasilitas publik yang ada, dan aksesibilitas transportasi. Klasifikasi ini dapat membantu perencanaan untuk mengembangkan permukiman baru atau meningkatkan fasilitas di area tertentu.\n",
    "Association Rules: Mencari hubungan antara kondisi lalu lintas dan faktor lain, seperti cuaca atau hari tertentu, misalnya, apakah ada peningkatan kemacetan pada hari Jumat atau selama hujan."
   ]
  },
  {
   "cell_type": "markdown",
   "metadata": {},
   "source": [
    "### Transformasi dan Normalisasi Data"
   ]
  },
  {
   "cell_type": "code",
   "execution_count": 34,
   "metadata": {},
   "outputs": [],
   "source": [
    "import pandas as pd\n",
    "import matplotlib.pyplot as plt\n",
    "import numpy as np"
   ]
  },
  {
   "cell_type": "code",
   "execution_count": 35,
   "metadata": {},
   "outputs": [],
   "source": [
    "DataFrame = pd.DataFrame({  \"Customer_ID\": [\"1\",\"2\",\"3\",\"4\"],\n",
    "                            \"Name\": [\"Alice\",\"Bob\",\"Charlie\",\"David\"],\n",
    "                            \"Age\": [25,32,28,40],\n",
    "                            \"Income\": [50000,72000,None,85000],\n",
    "                            \"Spending_Score\": [70,80,50,None]})"
   ]
  },
  {
   "cell_type": "code",
   "execution_count": 36,
   "metadata": {},
   "outputs": [
    {
     "data": {
      "text/html": [
       "<div>\n",
       "<style scoped>\n",
       "    .dataframe tbody tr th:only-of-type {\n",
       "        vertical-align: middle;\n",
       "    }\n",
       "\n",
       "    .dataframe tbody tr th {\n",
       "        vertical-align: top;\n",
       "    }\n",
       "\n",
       "    .dataframe thead th {\n",
       "        text-align: right;\n",
       "    }\n",
       "</style>\n",
       "<table border=\"1\" class=\"dataframe\">\n",
       "  <thead>\n",
       "    <tr style=\"text-align: right;\">\n",
       "      <th></th>\n",
       "      <th>Customer_ID</th>\n",
       "      <th>Name</th>\n",
       "      <th>Age</th>\n",
       "      <th>Income</th>\n",
       "      <th>Spending_Score</th>\n",
       "    </tr>\n",
       "  </thead>\n",
       "  <tbody>\n",
       "    <tr>\n",
       "      <th>0</th>\n",
       "      <td>1</td>\n",
       "      <td>Alice</td>\n",
       "      <td>25</td>\n",
       "      <td>50000.0</td>\n",
       "      <td>70.0</td>\n",
       "    </tr>\n",
       "    <tr>\n",
       "      <th>1</th>\n",
       "      <td>2</td>\n",
       "      <td>Bob</td>\n",
       "      <td>32</td>\n",
       "      <td>72000.0</td>\n",
       "      <td>80.0</td>\n",
       "    </tr>\n",
       "    <tr>\n",
       "      <th>2</th>\n",
       "      <td>3</td>\n",
       "      <td>Charlie</td>\n",
       "      <td>28</td>\n",
       "      <td>NaN</td>\n",
       "      <td>50.0</td>\n",
       "    </tr>\n",
       "    <tr>\n",
       "      <th>3</th>\n",
       "      <td>4</td>\n",
       "      <td>David</td>\n",
       "      <td>40</td>\n",
       "      <td>85000.0</td>\n",
       "      <td>NaN</td>\n",
       "    </tr>\n",
       "  </tbody>\n",
       "</table>\n",
       "</div>"
      ],
      "text/plain": [
       "  Customer_ID     Name  Age   Income  Spending_Score\n",
       "0           1    Alice   25  50000.0            70.0\n",
       "1           2      Bob   32  72000.0            80.0\n",
       "2           3  Charlie   28      NaN            50.0\n",
       "3           4    David   40  85000.0             NaN"
      ]
     },
     "execution_count": 36,
     "metadata": {},
     "output_type": "execute_result"
    }
   ],
   "source": [
    "DataFrame"
   ]
  },
  {
   "cell_type": "code",
   "execution_count": 37,
   "metadata": {},
   "outputs": [
    {
     "name": "stderr",
     "output_type": "stream",
     "text": [
      "C:\\Users\\Asus ExpertBook\\AppData\\Local\\Temp\\ipykernel_18200\\3770668894.py:1: FutureWarning: A value is trying to be set on a copy of a DataFrame or Series through chained assignment using an inplace method.\n",
      "The behavior will change in pandas 3.0. This inplace method will never work because the intermediate object on which we are setting values always behaves as a copy.\n",
      "\n",
      "For example, when doing 'df[col].method(value, inplace=True)', try using 'df.method({col: value}, inplace=True)' or df[col] = df[col].method(value) instead, to perform the operation inplace on the original object.\n",
      "\n",
      "\n",
      "  DataFrame['Income'].fillna(DataFrame['Income'].median(), inplace=True)\n",
      "C:\\Users\\Asus ExpertBook\\AppData\\Local\\Temp\\ipykernel_18200\\3770668894.py:2: FutureWarning: A value is trying to be set on a copy of a DataFrame or Series through chained assignment using an inplace method.\n",
      "The behavior will change in pandas 3.0. This inplace method will never work because the intermediate object on which we are setting values always behaves as a copy.\n",
      "\n",
      "For example, when doing 'df[col].method(value, inplace=True)', try using 'df.method({col: value}, inplace=True)' or df[col] = df[col].method(value) instead, to perform the operation inplace on the original object.\n",
      "\n",
      "\n",
      "  DataFrame['Spending_Score'].fillna(DataFrame['Spending_Score'].median(), inplace=True)\n"
     ]
    }
   ],
   "source": [
    "DataFrame['Income'].fillna(DataFrame['Income'].median(), inplace=True)\n",
    "DataFrame['Spending_Score'].fillna(DataFrame['Spending_Score'].median(), inplace=True)"
   ]
  },
  {
   "cell_type": "code",
   "execution_count": 38,
   "metadata": {},
   "outputs": [
    {
     "data": {
      "text/html": [
       "<div>\n",
       "<style scoped>\n",
       "    .dataframe tbody tr th:only-of-type {\n",
       "        vertical-align: middle;\n",
       "    }\n",
       "\n",
       "    .dataframe tbody tr th {\n",
       "        vertical-align: top;\n",
       "    }\n",
       "\n",
       "    .dataframe thead th {\n",
       "        text-align: right;\n",
       "    }\n",
       "</style>\n",
       "<table border=\"1\" class=\"dataframe\">\n",
       "  <thead>\n",
       "    <tr style=\"text-align: right;\">\n",
       "      <th></th>\n",
       "      <th>Customer_ID</th>\n",
       "      <th>Name</th>\n",
       "      <th>Age</th>\n",
       "      <th>Income</th>\n",
       "      <th>Spending_Score</th>\n",
       "    </tr>\n",
       "  </thead>\n",
       "  <tbody>\n",
       "    <tr>\n",
       "      <th>0</th>\n",
       "      <td>1</td>\n",
       "      <td>Alice</td>\n",
       "      <td>25</td>\n",
       "      <td>50000.0</td>\n",
       "      <td>70.0</td>\n",
       "    </tr>\n",
       "    <tr>\n",
       "      <th>1</th>\n",
       "      <td>2</td>\n",
       "      <td>Bob</td>\n",
       "      <td>32</td>\n",
       "      <td>72000.0</td>\n",
       "      <td>80.0</td>\n",
       "    </tr>\n",
       "    <tr>\n",
       "      <th>2</th>\n",
       "      <td>3</td>\n",
       "      <td>Charlie</td>\n",
       "      <td>28</td>\n",
       "      <td>72000.0</td>\n",
       "      <td>50.0</td>\n",
       "    </tr>\n",
       "    <tr>\n",
       "      <th>3</th>\n",
       "      <td>4</td>\n",
       "      <td>David</td>\n",
       "      <td>40</td>\n",
       "      <td>85000.0</td>\n",
       "      <td>70.0</td>\n",
       "    </tr>\n",
       "  </tbody>\n",
       "</table>\n",
       "</div>"
      ],
      "text/plain": [
       "  Customer_ID     Name  Age   Income  Spending_Score\n",
       "0           1    Alice   25  50000.0            70.0\n",
       "1           2      Bob   32  72000.0            80.0\n",
       "2           3  Charlie   28  72000.0            50.0\n",
       "3           4    David   40  85000.0            70.0"
      ]
     },
     "execution_count": 38,
     "metadata": {},
     "output_type": "execute_result"
    }
   ],
   "source": [
    "DataFrame"
   ]
  },
  {
   "cell_type": "code",
   "execution_count": 39,
   "metadata": {},
   "outputs": [],
   "source": [
    "DataFrame['Income_norm'] = (DataFrame['Income'] - DataFrame['Income'].min()) / (DataFrame['Income'].max() - DataFrame['Income'].min())"
   ]
  },
  {
   "cell_type": "code",
   "execution_count": 40,
   "metadata": {},
   "outputs": [],
   "source": [
    "DataFrame['Spending_Score_norm'] = (DataFrame['Spending_Score'] - DataFrame['Spending_Score'].min()) / (DataFrame['Spending_Score'].max() - DataFrame['Spending_Score'].min())"
   ]
  },
  {
   "cell_type": "code",
   "execution_count": 41,
   "metadata": {},
   "outputs": [
    {
     "data": {
      "text/html": [
       "<div>\n",
       "<style scoped>\n",
       "    .dataframe tbody tr th:only-of-type {\n",
       "        vertical-align: middle;\n",
       "    }\n",
       "\n",
       "    .dataframe tbody tr th {\n",
       "        vertical-align: top;\n",
       "    }\n",
       "\n",
       "    .dataframe thead th {\n",
       "        text-align: right;\n",
       "    }\n",
       "</style>\n",
       "<table border=\"1\" class=\"dataframe\">\n",
       "  <thead>\n",
       "    <tr style=\"text-align: right;\">\n",
       "      <th></th>\n",
       "      <th>Customer_ID</th>\n",
       "      <th>Name</th>\n",
       "      <th>Age</th>\n",
       "      <th>Income</th>\n",
       "      <th>Spending_Score</th>\n",
       "      <th>Income_norm</th>\n",
       "      <th>Spending_Score_norm</th>\n",
       "    </tr>\n",
       "  </thead>\n",
       "  <tbody>\n",
       "    <tr>\n",
       "      <th>0</th>\n",
       "      <td>1</td>\n",
       "      <td>Alice</td>\n",
       "      <td>25</td>\n",
       "      <td>50000.0</td>\n",
       "      <td>70.0</td>\n",
       "      <td>0.000000</td>\n",
       "      <td>0.666667</td>\n",
       "    </tr>\n",
       "    <tr>\n",
       "      <th>1</th>\n",
       "      <td>2</td>\n",
       "      <td>Bob</td>\n",
       "      <td>32</td>\n",
       "      <td>72000.0</td>\n",
       "      <td>80.0</td>\n",
       "      <td>0.628571</td>\n",
       "      <td>1.000000</td>\n",
       "    </tr>\n",
       "    <tr>\n",
       "      <th>2</th>\n",
       "      <td>3</td>\n",
       "      <td>Charlie</td>\n",
       "      <td>28</td>\n",
       "      <td>72000.0</td>\n",
       "      <td>50.0</td>\n",
       "      <td>0.628571</td>\n",
       "      <td>0.000000</td>\n",
       "    </tr>\n",
       "    <tr>\n",
       "      <th>3</th>\n",
       "      <td>4</td>\n",
       "      <td>David</td>\n",
       "      <td>40</td>\n",
       "      <td>85000.0</td>\n",
       "      <td>70.0</td>\n",
       "      <td>1.000000</td>\n",
       "      <td>0.666667</td>\n",
       "    </tr>\n",
       "  </tbody>\n",
       "</table>\n",
       "</div>"
      ],
      "text/plain": [
       "  Customer_ID     Name  Age   Income  Spending_Score  Income_norm  \\\n",
       "0           1    Alice   25  50000.0            70.0     0.000000   \n",
       "1           2      Bob   32  72000.0            80.0     0.628571   \n",
       "2           3  Charlie   28  72000.0            50.0     0.628571   \n",
       "3           4    David   40  85000.0            70.0     1.000000   \n",
       "\n",
       "   Spending_Score_norm  \n",
       "0             0.666667  \n",
       "1             1.000000  \n",
       "2             0.000000  \n",
       "3             0.666667  "
      ]
     },
     "execution_count": 41,
     "metadata": {},
     "output_type": "execute_result"
    }
   ],
   "source": [
    "DataFrame"
   ]
  },
  {
   "cell_type": "markdown",
   "metadata": {},
   "source": [
    "### Kustomisasi pada Subplot"
   ]
  },
  {
   "cell_type": "markdown",
   "metadata": {},
   "source": [
    "Bagaimana cara melakukan kustomisasi plot di matplotlib untuk menampilkan\n",
    "beberapa subplot dalam satu figure? Jelaskan langkah-langkah untuk membuat\n",
    "plot 2x2 dan sebutkan fungsi-fungsi kustomisasi yang dapat digunakan.\n"
   ]
  },
  {
   "cell_type": "markdown",
   "metadata": {},
   "source": [
    "Untuk dapat membuat beberapa subplot dalam satu figure dengan menggunakan matplotlib yang pertama kita harus meng import pustaka matplotlib lalu menggunakan fungsi plt.subplot untuk membuat beberapa plot.\n",
    "\n",
    "Langkah-langkah fungsi untuk membuat plot 2x2 sebagai berikut:\n",
    "1. Impor matplotlib.pyplot: Impor pustaka matplotlib.pyplot sebagai plt.\n",
    "2. Siapkan Grid Subplot 2x2: Gunakan plt.subplots(nrows=2, ncols=2) untuk membuat grid berukuran 2x2, yang akan menghasilkan 4 area subplot.\n",
    "3. Plot Data pada Setiap Subplot: Akses setiap subplot menggunakan indeks, dan gunakan fungsi plot() atau lainnya untuk menampilkan data.\n",
    "4. Kustomisasi Setiap Subplot: Gunakan fungsi-fungsi kustomisasi untuk mengubah judul, label sumbu, warna, dan gaya garis pada setiap subplot.\n",
    "5. Menampilkan Plot: Gunakan plt.show() untuk menampilkan semua subplot dalam satu figure.\n"
   ]
  },
  {
   "cell_type": "markdown",
   "metadata": {},
   "source": [
    "Berikut adalah implementasi yang sudah dilakukan sesuai soal"
   ]
  },
  {
   "cell_type": "code",
   "execution_count": 42,
   "metadata": {},
   "outputs": [
    {
     "data": {
      "image/png": "[encoded data removed]",
      "text/plain": [
       "<Figure size 1500x1000 with 4 Axes>"
      ]
     },
     "metadata": {},
     "output_type": "display_data"
    }
   ],
   "source": [
    "#plt.subplots(2, 2) membuat layout dengan 2 baris dan 2 kolom, menghasilkan total 4 subplot.\n",
    "#fig.subplots_adjust Menyesuaikan jarak antar subplot\n",
    "\n",
    "fig, axs = plt.subplots(2, 2, figsize=(15,10))\n",
    "fig.subplots_adjust(wspace=0.3, hspace=0.3)\n",
    "\n",
    "#axs[0, 0] mengakses subplot di baris pertama dan kolom pertama.\n",
    "#scatter() membuat grafik scatter antara kolom Age dan Income.\n",
    "#set_title(), set_xlabel() menambahkan judul dan label\n",
    "#grid() membuat garis bantu\n",
    "\n",
    "axs[0, 0].scatter(DataFrame['Age'], DataFrame['Income'], color='blue')\n",
    "axs[0, 0].set_title('Age vs Income')\n",
    "axs[0, 0].set_xlabel('Age')\n",
    "axs[0, 0].grid(color='gray', linestyle='--')\n",
    "\n",
    "#axs[0, 1] mengakses subplot di baris pertama di kolom kedua.\n",
    "#scatter() membuat grafik scatter antara kolom Age dan Spending_Score.\n",
    "#set_title(), set_xlabel() menambahkan judul dan label\n",
    "#grid() membuat garis bantu\n",
    "\n",
    "axs[0, 1].scatter(DataFrame['Age'], DataFrame['Spending_Score'], color='green')\n",
    "axs[0, 1].set_title('Age vs Spending Score')\n",
    "axs[0, 1].set_xlabel('Age')\n",
    "axs[0, 1].grid(color='gray', linestyle='--')\n",
    "\n",
    "#axs[1, 0] mengakses subplot di baris di baris kedua dan kolom pertama.\n",
    "#scatter() membuat grafik scatter antara kolom Income_norm dan Spending_Score_norm.\n",
    "#set_title(), set_xlabel() menambahkan judul dan label\n",
    "#grid() membuat garis bantu\n",
    "\n",
    "axs[1, 0].scatter(DataFrame['Income_norm'], DataFrame['Spending_Score_norm'], color='red')\n",
    "axs[1, 0].set_title('Normalized Income vs Normalized Spending Score')\n",
    "axs[1, 0].set_xlabel('Normalized Income')\n",
    "axs[1, 0].grid(color='gray', linestyle='--')\n",
    "\n",
    "#axs[1, 1] mengakses subplot di baris di baris kedua dan kolom kedua.\n",
    "#scatter() membuat grafik scatter antara kolom Age dan Spending_Score_norm.\n",
    "#set_title(), set_xlabel() menambahkan judul dan label\n",
    "#grid() membuat garis bantu\n",
    "\n",
    "axs[1, 1].scatter(DataFrame['Age'], DataFrame['Spending_Score_norm'], color='purple')\n",
    "axs[1, 1].set_title('Age vs Normalized Spending Score')\n",
    "axs[1, 1].set_xlabel('Age')\n",
    "axs[1, 1].grid(color='gray', linestyle='--')\n",
    "\n",
    "#plt.tight_layout() menyesuaikan tata letak subplot agar tidak saling bertumpukan.\n",
    "#plt.show() menampilkan seluruh subplot dalam satu figure.\n",
    "\n",
    "plt.tight_layout()\n",
    "plt.show()"
   ]
  },
  {
   "cell_type": "markdown",
   "metadata": {},
   "source": [
    "### Analisis Rata-Rata Gaji Pegawai Berdasarkan Departemen"
   ]
  },
  {
   "cell_type": "code",
   "execution_count": 43,
   "metadata": {},
   "outputs": [],
   "source": [
    "Df = pd.DataFrame({  \"Employee_ID\": [\"1\",\"2\",\"3\",\"4\",\"5\"],\n",
    "                            \"Name\": [\"Alice Smith\",\"Bob Johnson\",\"Charlie Lee\",\"David Brown\", \"Emily Davis\"],\n",
    "                            \"Department\": [\"IT\",\"HR\",\"Finance\",\"IT\",\"Finance\"],\n",
    "                            \"Gender\": [\"F\",\"M\",\"M\",\"M\",\"F\"],\n",
    "                            \"Age\": [29,35,42,31,37],\n",
    "                            \"Salary\": [6000,5500,7200,6800,7100]\n",
    "})"
   ]
  },
  {
   "cell_type": "markdown",
   "metadata": {},
   "source": [
    "Ubah table kedalam dataset employee_salary.csv"
   ]
  },
  {
   "cell_type": "code",
   "execution_count": 44,
   "metadata": {},
   "outputs": [],
   "source": [
    "Df.to_csv('employee_salary.csv', index=False)"
   ]
  },
  {
   "cell_type": "markdown",
   "metadata": {},
   "source": [
    "Gunakan pandas untuk membaca data employee_salary.csv"
   ]
  },
  {
   "cell_type": "code",
   "execution_count": 45,
   "metadata": {},
   "outputs": [
    {
     "data": {
      "text/html": [
       "<div>\n",
       "<style scoped>\n",
       "    .dataframe tbody tr th:only-of-type {\n",
       "        vertical-align: middle;\n",
       "    }\n",
       "\n",
       "    .dataframe tbody tr th {\n",
       "        vertical-align: top;\n",
       "    }\n",
       "\n",
       "    .dataframe thead th {\n",
       "        text-align: right;\n",
       "    }\n",
       "</style>\n",
       "<table border=\"1\" class=\"dataframe\">\n",
       "  <thead>\n",
       "    <tr style=\"text-align: right;\">\n",
       "      <th></th>\n",
       "      <th>Employee_ID</th>\n",
       "      <th>Name</th>\n",
       "      <th>Department</th>\n",
       "      <th>Gender</th>\n",
       "      <th>Age</th>\n",
       "      <th>Salary</th>\n",
       "    </tr>\n",
       "  </thead>\n",
       "  <tbody>\n",
       "    <tr>\n",
       "      <th>0</th>\n",
       "      <td>1</td>\n",
       "      <td>Alice Smith</td>\n",
       "      <td>IT</td>\n",
       "      <td>F</td>\n",
       "      <td>29</td>\n",
       "      <td>6000</td>\n",
       "    </tr>\n",
       "    <tr>\n",
       "      <th>1</th>\n",
       "      <td>2</td>\n",
       "      <td>Bob Johnson</td>\n",
       "      <td>HR</td>\n",
       "      <td>M</td>\n",
       "      <td>35</td>\n",
       "      <td>5500</td>\n",
       "    </tr>\n",
       "    <tr>\n",
       "      <th>2</th>\n",
       "      <td>3</td>\n",
       "      <td>Charlie Lee</td>\n",
       "      <td>Finance</td>\n",
       "      <td>M</td>\n",
       "      <td>42</td>\n",
       "      <td>7200</td>\n",
       "    </tr>\n",
       "    <tr>\n",
       "      <th>3</th>\n",
       "      <td>4</td>\n",
       "      <td>David Brown</td>\n",
       "      <td>IT</td>\n",
       "      <td>M</td>\n",
       "      <td>31</td>\n",
       "      <td>6800</td>\n",
       "    </tr>\n",
       "    <tr>\n",
       "      <th>4</th>\n",
       "      <td>5</td>\n",
       "      <td>Emily Davis</td>\n",
       "      <td>Finance</td>\n",
       "      <td>F</td>\n",
       "      <td>37</td>\n",
       "      <td>7100</td>\n",
       "    </tr>\n",
       "  </tbody>\n",
       "</table>\n",
       "</div>"
      ],
      "text/plain": [
       "   Employee_ID         Name Department Gender  Age  Salary\n",
       "0            1  Alice Smith         IT      F   29    6000\n",
       "1            2  Bob Johnson         HR      M   35    5500\n",
       "2            3  Charlie Lee    Finance      M   42    7200\n",
       "3            4  David Brown         IT      M   31    6800\n",
       "4            5  Emily Davis    Finance      F   37    7100"
      ]
     },
     "execution_count": 45,
     "metadata": {},
     "output_type": "execute_result"
    }
   ],
   "source": [
    "DataSet= pd.read_csv('employee_salary.csv')\n",
    "DataSet"
   ]
  },
  {
   "cell_type": "markdown",
   "metadata": {},
   "source": [
    "Kelompokkan data berdasarkan Department dan hitung rata-rata gaji\n",
    "(Salary) untuk setiap departemen."
   ]
  },
  {
   "cell_type": "code",
   "execution_count": 46,
   "metadata": {},
   "outputs": [
    {
     "data": {
      "text/html": [
       "<div>\n",
       "<style scoped>\n",
       "    .dataframe tbody tr th:only-of-type {\n",
       "        vertical-align: middle;\n",
       "    }\n",
       "\n",
       "    .dataframe tbody tr th {\n",
       "        vertical-align: top;\n",
       "    }\n",
       "\n",
       "    .dataframe thead th {\n",
       "        text-align: right;\n",
       "    }\n",
       "</style>\n",
       "<table border=\"1\" class=\"dataframe\">\n",
       "  <thead>\n",
       "    <tr style=\"text-align: right;\">\n",
       "      <th></th>\n",
       "      <th>Department</th>\n",
       "      <th>Salary</th>\n",
       "    </tr>\n",
       "  </thead>\n",
       "  <tbody>\n",
       "    <tr>\n",
       "      <th>0</th>\n",
       "      <td>Finance</td>\n",
       "      <td>7150.0</td>\n",
       "    </tr>\n",
       "    <tr>\n",
       "      <th>1</th>\n",
       "      <td>HR</td>\n",
       "      <td>5500.0</td>\n",
       "    </tr>\n",
       "    <tr>\n",
       "      <th>2</th>\n",
       "      <td>IT</td>\n",
       "      <td>6400.0</td>\n",
       "    </tr>\n",
       "  </tbody>\n",
       "</table>\n",
       "</div>"
      ],
      "text/plain": [
       "  Department  Salary\n",
       "0    Finance  7150.0\n",
       "1         HR  5500.0\n",
       "2         IT  6400.0"
      ]
     },
     "execution_count": 46,
     "metadata": {},
     "output_type": "execute_result"
    }
   ],
   "source": [
    "Mean_salary = DataSet.groupby('Department')['Salary'].mean().reset_index()\n",
    "\n",
    "Mean_salary"
   ]
  },
  {
   "cell_type": "markdown",
   "metadata": {},
   "source": [
    "Buat pivot table yang menampilkan rata-rata gaji berdasarkan Gender\n",
    "dan Department."
   ]
  },
  {
   "cell_type": "code",
   "execution_count": 47,
   "metadata": {},
   "outputs": [],
   "source": [
    "Pivot_Table = DataSet.pivot_table(\n",
    "    index=['Gender','Department'], \n",
    "    values=['Salary'], \n",
    "    aggfunc='mean',\n",
    "    margins=True,\n",
    "    margins_name='Total'\n",
    "    )"
   ]
  },
  {
   "cell_type": "markdown",
   "metadata": {},
   "source": [
    "Tampilkan hasil pivot table dengan menambahkan margin (Total) untuk\n",
    "mengetahui rata-rata gaji keseluruhan."
   ]
  },
  {
   "cell_type": "code",
   "execution_count": 48,
   "metadata": {},
   "outputs": [
    {
     "data": {
      "text/html": [
       "<div>\n",
       "<style scoped>\n",
       "    .dataframe tbody tr th:only-of-type {\n",
       "        vertical-align: middle;\n",
       "    }\n",
       "\n",
       "    .dataframe tbody tr th {\n",
       "        vertical-align: top;\n",
       "    }\n",
       "\n",
       "    .dataframe thead th {\n",
       "        text-align: right;\n",
       "    }\n",
       "</style>\n",
       "<table border=\"1\" class=\"dataframe\">\n",
       "  <thead>\n",
       "    <tr style=\"text-align: right;\">\n",
       "      <th></th>\n",
       "      <th></th>\n",
       "      <th>Salary</th>\n",
       "    </tr>\n",
       "    <tr>\n",
       "      <th>Gender</th>\n",
       "      <th>Department</th>\n",
       "      <th></th>\n",
       "    </tr>\n",
       "  </thead>\n",
       "  <tbody>\n",
       "    <tr>\n",
       "      <th rowspan=\"2\" valign=\"top\">F</th>\n",
       "      <th>Finance</th>\n",
       "      <td>7100.0</td>\n",
       "    </tr>\n",
       "    <tr>\n",
       "      <th>IT</th>\n",
       "      <td>6000.0</td>\n",
       "    </tr>\n",
       "    <tr>\n",
       "      <th rowspan=\"3\" valign=\"top\">M</th>\n",
       "      <th>Finance</th>\n",
       "      <td>7200.0</td>\n",
       "    </tr>\n",
       "    <tr>\n",
       "      <th>HR</th>\n",
       "      <td>5500.0</td>\n",
       "    </tr>\n",
       "    <tr>\n",
       "      <th>IT</th>\n",
       "      <td>6800.0</td>\n",
       "    </tr>\n",
       "    <tr>\n",
       "      <th>Total</th>\n",
       "      <th></th>\n",
       "      <td>6520.0</td>\n",
       "    </tr>\n",
       "  </tbody>\n",
       "</table>\n",
       "</div>"
      ],
      "text/plain": [
       "                   Salary\n",
       "Gender Department        \n",
       "F      Finance     7100.0\n",
       "       IT          6000.0\n",
       "M      Finance     7200.0\n",
       "       HR          5500.0\n",
       "       IT          6800.0\n",
       "Total              6520.0"
      ]
     },
     "execution_count": 48,
     "metadata": {},
     "output_type": "execute_result"
    }
   ],
   "source": [
    "Pivot_Table"
   ]
  }
 ],
 "metadata": {
  "kernelspec": {
   "display_name": "Python 3",
   "language": "python",
   "name": "python3"
  },
  "language_info": {
   "codemirror_mode": {
    "name": "ipython",
    "version": 3
   },
   "file_extension": ".py",
   "mimetype": "text/x-python",
   "name": "python",
   "nbconvert_exporter": "python",
   "pygments_lexer": "ipython3",
   "version": "3.12.2"
  }
 },
 "nbformat": 4,
 "nbformat_minor": 2
}
